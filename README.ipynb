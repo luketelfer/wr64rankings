{
 "cells": [
  {
   "cell_type": "code",
   "execution_count": 2,
   "metadata": {
    "tags": [
     "remove-cell"
    ]
   },
   "outputs": [],
   "source": [
    "import waveracepy.leaderboards as leaderboards\n",
    "import waveracepy.rankings as rankings\n",
    "import waveracepy.tallysheet as tallysheet\n",
    "import waveracepy.awards as awards\n",
    "import pandas as pd\n",
    "import numpy as np\n",
    "import matplotlib.pyplot as plt\n",
    "import seaborn as sns"
   ]
  },
  {
   "cell_type": "markdown",
   "metadata": {
    "tags": []
   },
   "source": [
    "# Scoring System\n",
    "\n",
    "The scoring system utilizes data pulled from the speedrun.com API. This is an attempt at providing a consistent metric for evaluating player performance, tracking progress, and generating community rankings. To ensure the integrity of the system, only verified NTSC runs with video proof are included in the scoring. PAL scores can also be generated as a separate product if desired. A player's total score is the sum of 5 separate scoring categories, scaled to a maximum possible score of 100. While this system would ideally be completely objective, there is some inherent subjectivity with the choice of scoring algorithms and their respective weight within the total score.  However, the algorithms and weights can easily be changed in the future based on community feedback.  In addition, the scores are relative to specific submitted times (1st place, 3rd place, 4th place, and last place) and when these times change the raw scores can also change.\n",
    "\n",
    "### Definitions\n",
    "\n",
    "| Term                 | Definition |\n",
    "| -------------------- | ---------- |\n",
    "| IL                   | Individual Level (time trial, in-game timer)\n",
    "| RTA                  | Real Time Attack (championship mode, external timer)\n",
    "| $i$                  | Represents a given course (level, category).\n",
    "| $\\text{t}_i$         | A player's best submitted time for course $i$.\n",
    "| $\\text{slowest}_i$   | The slowest submitted time for course $i$.\n",
    "| $\\text{1st place}_i$ | The world record time for course $i$.\n",
    "| $\\text{3rd place}_i$ | The third place time for course $i$.\n",
    "| $\\text{4th place}_i$ | The fourth place time for course $i$.\n",
    "| $\\text{benchmark}_i$ | For a given third place time, x'yy\"zzz: <br> $\\text{3 Lap, Reverse} \\rightarrow \\text{x'yy\"999}$ <br> $\\text{1 Lap} \\rightarrow \\begin{cases} \\text{x'yy\"500} & \\text{if zzz}~~ < \\text{500}\\\\ \\text{x'yy\"999} & \\text{if zzz}~~ \\geq \\text{499} \\end{cases}$\n",
    "| $\\text{standard}_i$  | Benchmark time plus: <br> $\\begin{cases} 1~~ \\text{sec} & \\text{for 3 Lap, Reverse}\\\\ 0.5~~ \\text{sec} & \\text{for 1 Lap} \\end{cases}$\n",
    "\n",
    "### Scoring Algorithms\n",
    "| Score | Type    | Maximum <br> Points | Algorithm |\n",
    "| ---------------- | :-----: | :----: | ----------- |\n",
    "| Base             | IL      | 24     | $\\sum_{i = 1}^{24} \\begin{cases} 0 & \\text{if}~~ \\nexists~~ \\text{t}_i\\\\ 1 & \\text{if}~~ \\text{t}_i \\leq \\text{standard}_i\\\\ \\frac{\\text{slowest}_i - \\text{t}_i}{\\text{slowest}_i - \\text{standard}_i} & \\text{otherwise} \\end{cases}$\n",
    "| Standard         | IL      | 24     | $\\sum_{i = 1}^{24} \\begin{cases} 0 & \\text{if}~~ \\text{t}_i > \\text{standard}_i\\\\ 1 & \\text{if}~~ \\text{t}_i \\leq \\text{benchmark}_i\\\\ \\frac{\\text{standard}_i - \\text{t}_i}{\\text{standard}_i - \\text{benchmark}_i} & \\text{otherwise} \\end{cases}$\n",
    "| Benchmark        | IL      | 24     | $\\sum_{i = 1}^{24} \\begin{cases} 0 & \\text{if}~~ \\text{t}_i > \\text{benchmark}_i\\\\ 1 & \\text{if}~~ \\text{t}_i \\leq \\text{3rd place}_i\\\\ \\frac{\\text{benchmark}_i - \\text{t}_i}{\\text{benchmark}_i - \\text{3rd place}_i} & \\text{otherwise} \\end{cases}$\n",
    "| Championship     | RTA     | 8      | $\\sum_{i = 1}^{5} \\begin{cases} 0 & \\text{if}~~ \\nexists~~ \\text{t}_i\\\\ 4\\left(\\frac{\\text{slowest}_{i} - \\text{t}_i}{\\text{slowest}_{i} - \\text{1st place}_i}\\right) & \\text{if}~~ i = \\text{``All Championships''}\\\\ \\frac{\\text{slowest}_{i} - \\text{t}_i}{\\text{1st place}_{i} - \\text{1st place}_i} & \\text{otherwise} \\end{cases}$\n",
    "| Medal            | IL, RTA | 29     | $\\sum_{i = 1}^{29} \\begin{cases} 0 & \\text{if}~~ \\text{t}_i > \\text{3rd place}_i\\\\ \\frac{\\text{4th place}_i - \\text{t}_i}{\\text{4th place}_i - \\text{1st place}_i} & \\text{otherwise} \\end{cases}$\n",
    "| Total            | IL, RTA | 100    | $\\frac{100}{106} \\sum_{k = 1}^{5} \\text{score}_k$"
   ]
  },
  {
   "cell_type": "markdown",
   "metadata": {},
   "source": [
    "# Rankings\n",
    "\n",
    "Scores are calculated based on all verified runs with video proof and these scores are used to generate all-time rankings.  However, in order to qualify for the current rankings, a player must have submitted a PB within the past two years.  If a player qualifies, then they are included in the rankings!  Once these algorithms are polished, rankings could be published fairly regularly.  It takes less than 15 minutes to pull the data, run the scripts, and publish the outputs. \n",
    "\n",
    "### Tallysheet\n",
    "\n",
    "In addition to the rankings, a tallysheet is produced documenting the number of standards, benchmarks, and medals each player has acquired.  Hopefully someday this can be used for official achievements.\n",
    "\n",
    "### Comparison\n",
    "\n",
    "To demonstrate how the scoring system and rankings work, let's compare it against the most recent official rankings (2021 Q4).  Here's the official top 10:\n",
    "\n",
    "| Rank | Player |\n",
    "| :--: | ------ |\n",
    "| 1    | Shibbypod\n",
    "| 2    | doctorfeesh\n",
    "| 3    | Game\n",
    "| 4    | MDK1\n",
    "| 5    | MyOhMyPancakes\n",
    "| 6    | MetalHead\n",
    "| 7    | AS_Money\n",
    "| 8    | Illudude\n",
    "| 9    | meauxdal\n",
    "| 10   | andypanther"
   ]
  },
  {
   "cell_type": "code",
   "execution_count": 8,
   "metadata": {},
   "outputs": [
    {
     "data": {
      "text/html": [
       "<div>\n",
       "<style scoped>\n",
       "    .dataframe tbody tr th:only-of-type {\n",
       "        vertical-align: middle;\n",
       "    }\n",
       "\n",
       "    .dataframe tbody tr th {\n",
       "        vertical-align: top;\n",
       "    }\n",
       "\n",
       "    .dataframe thead th {\n",
       "        text-align: right;\n",
       "    }\n",
       "</style>\n",
       "<table border=\"1\" class=\"dataframe\">\n",
       "  <thead>\n",
       "    <tr style=\"text-align: right;\">\n",
       "      <th></th>\n",
       "      <th>CURRENT RANK</th>\n",
       "      <th>PREVIOUS RANK</th>\n",
       "      <th>ALLTIME RANK</th>\n",
       "      <th>TOTAL SCORE</th>\n",
       "      <th>dSCORE</th>\n",
       "      <th>BASE SCORE</th>\n",
       "      <th>STANDARD SCORE</th>\n",
       "      <th>BENCHMARK SCORE</th>\n",
       "      <th>CHAMPIONSHIP SCORE</th>\n",
       "      <th>MEDAL SCORE</th>\n",
       "    </tr>\n",
       "    <tr>\n",
       "      <th>PLAYER</th>\n",
       "      <th></th>\n",
       "      <th></th>\n",
       "      <th></th>\n",
       "      <th></th>\n",
       "      <th></th>\n",
       "      <th></th>\n",
       "      <th></th>\n",
       "      <th></th>\n",
       "      <th></th>\n",
       "      <th></th>\n",
       "    </tr>\n",
       "  </thead>\n",
       "  <tbody>\n",
       "    <tr>\n",
       "      <th>Shibbypod</th>\n",
       "      <td>1.0</td>\n",
       "      <td>1.0</td>\n",
       "      <td>1.0</td>\n",
       "      <td>98.67</td>\n",
       "      <td>2.68</td>\n",
       "      <td>24.000000</td>\n",
       "      <td>24.000</td>\n",
       "      <td>24.000000</td>\n",
       "      <td>8.00</td>\n",
       "      <td>24.589010</td>\n",
       "    </tr>\n",
       "    <tr>\n",
       "      <th>doctorfeesh</th>\n",
       "      <td>2.0</td>\n",
       "      <td>2.0</td>\n",
       "      <td>2.0</td>\n",
       "      <td>90.93</td>\n",
       "      <td>2.33</td>\n",
       "      <td>24.000000</td>\n",
       "      <td>24.000</td>\n",
       "      <td>23.701641</td>\n",
       "      <td>7.46</td>\n",
       "      <td>17.232846</td>\n",
       "    </tr>\n",
       "    <tr>\n",
       "      <th>Game</th>\n",
       "      <td>3.0</td>\n",
       "      <td>3.0</td>\n",
       "      <td>3.0</td>\n",
       "      <td>63.42</td>\n",
       "      <td>-2.82</td>\n",
       "      <td>24.000000</td>\n",
       "      <td>22.653</td>\n",
       "      <td>16.993910</td>\n",
       "      <td>0.00</td>\n",
       "      <td>3.583871</td>\n",
       "    </tr>\n",
       "    <tr>\n",
       "      <th>MyOhMyPancakes</th>\n",
       "      <td>4.0</td>\n",
       "      <td>4.0</td>\n",
       "      <td>4.0</td>\n",
       "      <td>50.23</td>\n",
       "      <td>-1.21</td>\n",
       "      <td>23.846762</td>\n",
       "      <td>17.183</td>\n",
       "      <td>4.779652</td>\n",
       "      <td>6.98</td>\n",
       "      <td>0.455378</td>\n",
       "    </tr>\n",
       "    <tr>\n",
       "      <th>MDK1</th>\n",
       "      <td>5.0</td>\n",
       "      <td>11.0</td>\n",
       "      <td>5.0</td>\n",
       "      <td>50.15</td>\n",
       "      <td>23.06</td>\n",
       "      <td>18.792414</td>\n",
       "      <td>17.756</td>\n",
       "      <td>11.370144</td>\n",
       "      <td>1.90</td>\n",
       "      <td>3.344314</td>\n",
       "    </tr>\n",
       "    <tr>\n",
       "      <th>MetalHead</th>\n",
       "      <td>6.0</td>\n",
       "      <td>5.0</td>\n",
       "      <td>6.0</td>\n",
       "      <td>49.88</td>\n",
       "      <td>-0.55</td>\n",
       "      <td>23.585670</td>\n",
       "      <td>15.855</td>\n",
       "      <td>6.497861</td>\n",
       "      <td>6.77</td>\n",
       "      <td>0.157143</td>\n",
       "    </tr>\n",
       "    <tr>\n",
       "      <th>AS_Money</th>\n",
       "      <td>7.0</td>\n",
       "      <td>6.0</td>\n",
       "      <td>8.0</td>\n",
       "      <td>44.54</td>\n",
       "      <td>-0.96</td>\n",
       "      <td>22.930517</td>\n",
       "      <td>15.813</td>\n",
       "      <td>2.343464</td>\n",
       "      <td>6.12</td>\n",
       "      <td>0.000000</td>\n",
       "    </tr>\n",
       "    <tr>\n",
       "      <th>meauxdal</th>\n",
       "      <td>8.0</td>\n",
       "      <td>7.0</td>\n",
       "      <td>9.0</td>\n",
       "      <td>42.92</td>\n",
       "      <td>-0.51</td>\n",
       "      <td>23.364402</td>\n",
       "      <td>15.646</td>\n",
       "      <td>3.383378</td>\n",
       "      <td>3.11</td>\n",
       "      <td>0.000000</td>\n",
       "    </tr>\n",
       "    <tr>\n",
       "      <th>andypanther</th>\n",
       "      <td>9.0</td>\n",
       "      <td>8.0</td>\n",
       "      <td>10.0</td>\n",
       "      <td>37.79</td>\n",
       "      <td>0.23</td>\n",
       "      <td>23.108440</td>\n",
       "      <td>11.220</td>\n",
       "      <td>0.916713</td>\n",
       "      <td>4.81</td>\n",
       "      <td>0.000000</td>\n",
       "    </tr>\n",
       "    <tr>\n",
       "      <th>Illudude</th>\n",
       "      <td>10.0</td>\n",
       "      <td>9.0</td>\n",
       "      <td>11.0</td>\n",
       "      <td>36.12</td>\n",
       "      <td>0.01</td>\n",
       "      <td>13.837586</td>\n",
       "      <td>11.892</td>\n",
       "      <td>8.353974</td>\n",
       "      <td>0.91</td>\n",
       "      <td>3.300626</td>\n",
       "    </tr>\n",
       "  </tbody>\n",
       "</table>\n",
       "</div>"
      ],
      "text/plain": [
       "                CURRENT RANK  PREVIOUS RANK  ALLTIME RANK  TOTAL SCORE  \\\n",
       "PLAYER                                                                   \n",
       "Shibbypod                1.0            1.0           1.0        98.67   \n",
       "doctorfeesh              2.0            2.0           2.0        90.93   \n",
       "Game                     3.0            3.0           3.0        63.42   \n",
       "MyOhMyPancakes           4.0            4.0           4.0        50.23   \n",
       "MDK1                     5.0           11.0           5.0        50.15   \n",
       "MetalHead                6.0            5.0           6.0        49.88   \n",
       "AS_Money                 7.0            6.0           8.0        44.54   \n",
       "meauxdal                 8.0            7.0           9.0        42.92   \n",
       "andypanther              9.0            8.0          10.0        37.79   \n",
       "Illudude                10.0            9.0          11.0        36.12   \n",
       "\n",
       "                dSCORE  BASE SCORE  STANDARD SCORE  BENCHMARK SCORE  \\\n",
       "PLAYER                                                                \n",
       "Shibbypod         2.68   24.000000          24.000        24.000000   \n",
       "doctorfeesh       2.33   24.000000          24.000        23.701641   \n",
       "Game             -2.82   24.000000          22.653        16.993910   \n",
       "MyOhMyPancakes   -1.21   23.846762          17.183         4.779652   \n",
       "MDK1             23.06   18.792414          17.756        11.370144   \n",
       "MetalHead        -0.55   23.585670          15.855         6.497861   \n",
       "AS_Money         -0.96   22.930517          15.813         2.343464   \n",
       "meauxdal         -0.51   23.364402          15.646         3.383378   \n",
       "andypanther       0.23   23.108440          11.220         0.916713   \n",
       "Illudude          0.01   13.837586          11.892         8.353974   \n",
       "\n",
       "                CHAMPIONSHIP SCORE  MEDAL SCORE  \n",
       "PLAYER                                           \n",
       "Shibbypod                     8.00    24.589010  \n",
       "doctorfeesh                   7.46    17.232846  \n",
       "Game                          0.00     3.583871  \n",
       "MyOhMyPancakes                6.98     0.455378  \n",
       "MDK1                          1.90     3.344314  \n",
       "MetalHead                     6.77     0.157143  \n",
       "AS_Money                      6.12     0.000000  \n",
       "meauxdal                      3.11     0.000000  \n",
       "andypanther                   4.81     0.000000  \n",
       "Illudude                      0.91     3.300626  "
      ]
     },
     "execution_count": 8,
     "metadata": {},
     "output_type": "execute_result"
    }
   ],
   "source": [
    "R = rankings.calc(\n",
    "    DATE = '2021-12-31',\n",
    "    READ = True,\n",
    "    PREV = True\n",
    ")\n",
    "R.head(10)"
   ]
  },
  {
   "cell_type": "markdown",
   "metadata": {},
   "source": [
    "The scoring system produces the same players in the top 10, although the order is a little different.  MDK1 and MyOhMyPancakes have swapped positions and Illudude has moved from 8th to 10th.  Both are probably directly related to lack of submissions given that they have low base and standard scores but high benchmark and medal scores.  Let's look at the tallysheet for the players whose ranking has changed:"
   ]
  },
  {
   "cell_type": "code",
   "execution_count": 9,
   "metadata": {},
   "outputs": [
    {
     "data": {
      "text/html": [
       "<div>\n",
       "<style scoped>\n",
       "    .dataframe tbody tr th:only-of-type {\n",
       "        vertical-align: middle;\n",
       "    }\n",
       "\n",
       "    .dataframe tbody tr th {\n",
       "        vertical-align: top;\n",
       "    }\n",
       "\n",
       "    .dataframe thead th {\n",
       "        text-align: right;\n",
       "    }\n",
       "</style>\n",
       "<table border=\"1\" class=\"dataframe\">\n",
       "  <thead>\n",
       "    <tr style=\"text-align: right;\">\n",
       "      <th></th>\n",
       "      <th>SHEET</th>\n",
       "      <th>STANDARDS</th>\n",
       "      <th>BENCHMARKS</th>\n",
       "      <th>BRONZE</th>\n",
       "      <th>SILVER</th>\n",
       "      <th>GOLD</th>\n",
       "      <th>MEDALS</th>\n",
       "    </tr>\n",
       "    <tr>\n",
       "      <th>PLAYER</th>\n",
       "      <th></th>\n",
       "      <th></th>\n",
       "      <th></th>\n",
       "      <th></th>\n",
       "      <th></th>\n",
       "      <th></th>\n",
       "      <th></th>\n",
       "    </tr>\n",
       "  </thead>\n",
       "  <tbody>\n",
       "    <tr>\n",
       "      <th>MDK1</th>\n",
       "      <td>21</td>\n",
       "      <td>18.0</td>\n",
       "      <td>16.0</td>\n",
       "      <td>3.0</td>\n",
       "      <td>5.0</td>\n",
       "      <td>1.0</td>\n",
       "      <td>9.0</td>\n",
       "    </tr>\n",
       "    <tr>\n",
       "      <th>MyOhMyPancakes</th>\n",
       "      <td>29</td>\n",
       "      <td>22.0</td>\n",
       "      <td>14.0</td>\n",
       "      <td>2.0</td>\n",
       "      <td>0.0</td>\n",
       "      <td>0.0</td>\n",
       "      <td>2.0</td>\n",
       "    </tr>\n",
       "    <tr>\n",
       "      <th>Illudude</th>\n",
       "      <td>15</td>\n",
       "      <td>13.0</td>\n",
       "      <td>11.0</td>\n",
       "      <td>3.0</td>\n",
       "      <td>2.0</td>\n",
       "      <td>2.0</td>\n",
       "      <td>7.0</td>\n",
       "    </tr>\n",
       "    <tr>\n",
       "      <th>meauxdal</th>\n",
       "      <td>28</td>\n",
       "      <td>19.0</td>\n",
       "      <td>9.0</td>\n",
       "      <td>0.0</td>\n",
       "      <td>0.0</td>\n",
       "      <td>0.0</td>\n",
       "      <td>0.0</td>\n",
       "    </tr>\n",
       "    <tr>\n",
       "      <th>andypanther</th>\n",
       "      <td>29</td>\n",
       "      <td>16.0</td>\n",
       "      <td>4.0</td>\n",
       "      <td>0.0</td>\n",
       "      <td>0.0</td>\n",
       "      <td>0.0</td>\n",
       "      <td>0.0</td>\n",
       "    </tr>\n",
       "  </tbody>\n",
       "</table>\n",
       "</div>"
      ],
      "text/plain": [
       "                SHEET  STANDARDS  BENCHMARKS  BRONZE  SILVER  GOLD  MEDALS\n",
       "PLAYER                                                                    \n",
       "MDK1               21       18.0        16.0     3.0     5.0   1.0     9.0\n",
       "MyOhMyPancakes     29       22.0        14.0     2.0     0.0   0.0     2.0\n",
       "Illudude           15       13.0        11.0     3.0     2.0   2.0     7.0\n",
       "meauxdal           28       19.0         9.0     0.0     0.0   0.0     0.0\n",
       "andypanther        29       16.0         4.0     0.0     0.0   0.0     0.0"
      ]
     },
     "execution_count": 9,
     "metadata": {},
     "output_type": "execute_result"
    }
   ],
   "source": [
    "T = tallysheet.open(\n",
    "    DATE = '2021-12-31',\n",
    "    REGION = 'NTSC'\n",
    ")\n",
    "T.loc[['MDK1','MyOhMyPancakes','Illudude','meauxdal','andypanther']]"
   ]
  },
  {
   "cell_type": "markdown",
   "metadata": {},
   "source": [
    "Each of the players with improved rankings have a full or nearly full timesheet, while MDK1 is missing 8 submissions and Illudude is missing 14 submissions. With the difference between MDK and MyOhMyPancakes being only 0.07 points, MDK1 is probably only one top 35 submission from pulling ahead.  Given the eye test, Illudude should be ranked higher (and would be with more submissions).  Is the system flawed?  Maybe, but the advantage is that there is a simple, straightforward way for Illudude to improve their score should they care.\n",
    "\n",
    "For the most part, we've been limited to top 10 rankings with unordered honorable mentions.  With these rankings we can look at the whole field. Here are the scores for all active players (submitted within the last 2 years).  Shibbypod and doctorfeesh are obviously way up there.  MyOhMyPancakes, MDK1, and MetalHead are neck and neck for 4th. But look at that HUGE drop off after 10th.  eToast is the only player outside of the top 10 to fully break away from the pack.  VR747_CHALON_Type_a8 is another interesting case; top 5 in RTA runs but hasn't submitted any IL runs.  Still at 18th though even with the Championship Score being weighted fairly low."
   ]
  },
  {
   "cell_type": "code",
   "execution_count": 10,
   "metadata": {
    "tags": [
     "hide-inputs"
    ]
   },
   "outputs": [
    {
     "data": {
      "image/png": "[encoded data removed]",
      "text/plain": [
       "<Figure size 576x504 with 1 Axes>"
      ]
     },
     "metadata": {
      "needs_background": "light"
     },
     "output_type": "display_data"
    }
   ],
   "source": [
    "fig, ax = plt.subplots(figsize=(8,7))\n",
    "ax.plot(\n",
    "    R['CURRENT RANK'],\n",
    "    R['TOTAL SCORE'],\n",
    "    c = 'silver',\n",
    "    zorder = 1\n",
    ")\n",
    "ax.scatter(\n",
    "    R['CURRENT RANK'],\n",
    "    R['TOTAL SCORE'],\n",
    "    c = 'silver',\n",
    "    zorder = 2\n",
    ")\n",
    "ax.scatter(\n",
    "    R.loc[['Shibbypod','doctorfeesh']]['CURRENT RANK'],\n",
    "    R.loc[['Shibbypod','doctorfeesh']]['TOTAL SCORE'],\n",
    "    c = 'gold',\n",
    "    zorder = 3,\n",
    "    s = 100,\n",
    "    edgecolors='tab:grey',\n",
    "    label = 'Shibbypod, doctorfeesh'\n",
    ")\n",
    "ax.scatter(\n",
    "    R.loc[['MyOhMyPancakes','MDK1','MetalHead']]['CURRENT RANK'],\n",
    "    R.loc[['MyOhMyPancakes','MDK1','MetalHead']]['TOTAL SCORE'],\n",
    "    c = 'skyblue',\n",
    "    edgecolors='tab:grey',\n",
    "    zorder = 3,\n",
    "    s = 75,\n",
    "    label = 'MyOhMyPancakes, MDK1, MetalHead'\n",
    ")\n",
    "ax.scatter(\n",
    "    R.loc['eToast']['CURRENT RANK'],\n",
    "    R.loc['eToast']['TOTAL SCORE'],\n",
    "    c = 'yellowgreen',\n",
    "    edgecolors='tab:grey',\n",
    "    zorder = 3,\n",
    "    s = 100,\n",
    "    label = 'eToast'\n",
    ")\n",
    "ax.scatter(\n",
    "    R.loc['VR747_CHALON_Type_a8']['CURRENT RANK'],\n",
    "    R.loc['VR747_CHALON_Type_a8']['TOTAL SCORE'],\n",
    "    c = 'coral',\n",
    "    edgecolors='tab:grey',\n",
    "    zorder = 3,\n",
    "    s = 100,\n",
    "    label = 'VR747_CHALON_Type_a8'\n",
    ")\n",
    "ax.axvline(10,ls='--',lw=1.3,c='k',zorder=0,alpha=0.4,label='10th Place')\n",
    "ax.set_xlabel('CURRENT RANK')\n",
    "ax.set_ylabel('TOTAL SCORE')\n",
    "ax.grid(zorder=0,alpha=0.1)\n",
    "ax.set_title('2021 Q4 (Current)')\n",
    "ax.legend()\n",
    "plt.tight_layout()"
   ]
  },
  {
   "cell_type": "markdown",
   "metadata": {},
   "source": [
    "Now look at the same plot but with all-time rankings that include inactive players.  Sure seems like that steep climb starting around 12 points (20th place) is a killer.  Just playing around at this point but the data from a scoring system like this could be really fun to explore."
   ]
  },
  {
   "cell_type": "code",
   "execution_count": 11,
   "metadata": {
    "tags": [
     "hide-inputs"
    ]
   },
   "outputs": [
    {
     "data": {
      "image/png": "[encoded data removed]",
      "text/plain": [
       "<Figure size 576x504 with 1 Axes>"
      ]
     },
     "metadata": {
      "needs_background": "light"
     },
     "output_type": "display_data"
    }
   ],
   "source": [
    "A = R[~np.isnan(R['CURRENT RANK'])].copy()\n",
    "R2 = R.sort_values(by='ALLTIME RANK').copy()\n",
    "\n",
    "fig, ax = plt.subplots(figsize=(8,7))\n",
    "ax.plot(\n",
    "    R2['ALLTIME RANK'],\n",
    "    R2['TOTAL SCORE'],\n",
    "    c = 'silver',\n",
    "    zorder = 1\n",
    ")\n",
    "ax.scatter(\n",
    "    R2['ALLTIME RANK'],\n",
    "    R2['TOTAL SCORE'],\n",
    "    c = 'white',\n",
    "    edgecolors='white',\n",
    "    s=40,\n",
    "    zorder = 1\n",
    ")\n",
    "ax.scatter(\n",
    "    R2['ALLTIME RANK'],\n",
    "    R2['TOTAL SCORE'],\n",
    "    c = 'silver',\n",
    "    edgecolors='tab:grey',\n",
    "    alpha = 0.5,\n",
    "    s=40,\n",
    "    zorder = 2,\n",
    "    marker = 'o',\n",
    "    label = 'Inactive Players'\n",
    ")\n",
    "\n",
    "ax.scatter(\n",
    "    A['ALLTIME RANK'],\n",
    "    A['TOTAL SCORE'],\n",
    "    c = 'coral',\n",
    "    s = 75,\n",
    "    edgecolors='tab:grey',\n",
    "    zorder = 2,\n",
    "    marker = 'o',\n",
    "    label = 'Active Players'\n",
    ")\n",
    "\n",
    "ax.axvline(20,ls='--',lw=1.3,c='k',zorder=0,alpha=0.4,label='20th Place')\n",
    "ax.set_xlabel('ALLTIME RANK')\n",
    "ax.set_ylabel('TOTAL SCORE')\n",
    "ax.grid(zorder=0,alpha=0.1)\n",
    "ax.set_title('2021 Q4 (All-Time)')\n",
    "ax.legend()\n",
    "plt.tight_layout()"
   ]
  },
  {
   "cell_type": "markdown",
   "metadata": {},
   "source": [
    "# Awards\n",
    "\n",
    "Another use for this data is generating awards or showcasing runs from the past quarter. For example, comparing Q4 with rankings generated for Q3 allows us to find the most improved player and the best new player over the quarter.  The top player is simply the highest score... a formality given the rankings (but you can't have awards without an MVP)."
   ]
  },
  {
   "cell_type": "code",
   "execution_count": 12,
   "metadata": {},
   "outputs": [
    {
     "data": {
      "text/html": [
       "<div>\n",
       "<style scoped>\n",
       "    .dataframe tbody tr th:only-of-type {\n",
       "        vertical-align: middle;\n",
       "    }\n",
       "\n",
       "    .dataframe tbody tr th {\n",
       "        vertical-align: top;\n",
       "    }\n",
       "\n",
       "    .dataframe thead th {\n",
       "        text-align: right;\n",
       "    }\n",
       "</style>\n",
       "<table border=\"1\" class=\"dataframe\">\n",
       "  <thead>\n",
       "    <tr style=\"text-align: right;\">\n",
       "      <th></th>\n",
       "      <th>PLAYER</th>\n",
       "      <th>TOTAL SCORE</th>\n",
       "      <th>dSCORE</th>\n",
       "    </tr>\n",
       "    <tr>\n",
       "      <th>AWARD</th>\n",
       "      <th></th>\n",
       "      <th></th>\n",
       "      <th></th>\n",
       "    </tr>\n",
       "  </thead>\n",
       "  <tbody>\n",
       "    <tr>\n",
       "      <th>Best Player</th>\n",
       "      <td>Shibbypod</td>\n",
       "      <td>98.67</td>\n",
       "      <td>2.68</td>\n",
       "    </tr>\n",
       "    <tr>\n",
       "      <th>Most Improved</th>\n",
       "      <td>MDK1</td>\n",
       "      <td>50.15</td>\n",
       "      <td>23.06</td>\n",
       "    </tr>\n",
       "    <tr>\n",
       "      <th>Top Rookie</th>\n",
       "      <td>touhu_dnb</td>\n",
       "      <td>0.90</td>\n",
       "      <td>NaN</td>\n",
       "    </tr>\n",
       "  </tbody>\n",
       "</table>\n",
       "</div>"
      ],
      "text/plain": [
       "                  PLAYER  TOTAL SCORE  dSCORE\n",
       "AWARD                                        \n",
       "Best Player    Shibbypod        98.67    2.68\n",
       "Most Improved       MDK1        50.15   23.06\n",
       "Top Rookie     touhu_dnb         0.90     NaN"
      ]
     },
     "execution_count": 12,
     "metadata": {},
     "output_type": "execute_result"
    }
   ],
   "source": [
    "AWARDS = awards.awards(\n",
    "    DATE = '2021-12-31',\n",
    "    REGION = 'NTSC'\n",
    ")\n",
    "AWARDS"
   ]
  },
  {
   "cell_type": "markdown",
   "metadata": {},
   "source": [
    "# Achievements\n",
    "\n",
    "You can also highlight achievements such as new players or players with a complete scoresheet.  This is currently in progress but hopefully it illustrates the potential."
   ]
  },
  {
   "cell_type": "code",
   "execution_count": 13,
   "metadata": {},
   "outputs": [],
   "source": [
    "ACHIEVEMENTS = awards.achievements(\n",
    "    DATE = '2021-12-31',\n",
    "    REGION = 'NTSC'\n",
    ")"
   ]
  },
  {
   "cell_type": "code",
   "execution_count": 14,
   "metadata": {
    "tags": [
     "hide-inputs"
    ]
   },
   "outputs": [
    {
     "data": {
      "text/html": [
       "<div>\n",
       "<style scoped>\n",
       "    .dataframe tbody tr th:only-of-type {\n",
       "        vertical-align: middle;\n",
       "    }\n",
       "\n",
       "    .dataframe tbody tr th {\n",
       "        vertical-align: top;\n",
       "    }\n",
       "\n",
       "    .dataframe thead th {\n",
       "        text-align: right;\n",
       "    }\n",
       "</style>\n",
       "<table border=\"1\" class=\"dataframe\">\n",
       "  <thead>\n",
       "    <tr style=\"text-align: right;\">\n",
       "      <th></th>\n",
       "    </tr>\n",
       "    <tr>\n",
       "      <th>FIRST SUBMISSION ACHIEVEMENT</th>\n",
       "    </tr>\n",
       "  </thead>\n",
       "  <tbody>\n",
       "    <tr>\n",
       "      <th>GetLow</th>\n",
       "    </tr>\n",
       "    <tr>\n",
       "      <th>Sysynct</th>\n",
       "    </tr>\n",
       "    <tr>\n",
       "      <th>backpain4</th>\n",
       "    </tr>\n",
       "    <tr>\n",
       "      <th>irukan</th>\n",
       "    </tr>\n",
       "    <tr>\n",
       "      <th>touhu_dnb</th>\n",
       "    </tr>\n",
       "  </tbody>\n",
       "</table>\n",
       "</div>"
      ],
      "text/plain": [
       "Empty DataFrame\n",
       "Columns: []\n",
       "Index: [GetLow, Sysynct, backpain4, irukan, touhu_dnb]"
      ]
     },
     "execution_count": 14,
     "metadata": {},
     "output_type": "execute_result"
    }
   ],
   "source": [
    "ACHIEVEMENTS['First Submission']"
   ]
  },
  {
   "cell_type": "code",
   "execution_count": 15,
   "metadata": {
    "tags": [
     "hide-inputs"
    ]
   },
   "outputs": [
    {
     "data": {
      "text/html": [
       "<div>\n",
       "<style scoped>\n",
       "    .dataframe tbody tr th:only-of-type {\n",
       "        vertical-align: middle;\n",
       "    }\n",
       "\n",
       "    .dataframe tbody tr th {\n",
       "        vertical-align: top;\n",
       "    }\n",
       "\n",
       "    .dataframe thead th {\n",
       "        text-align: right;\n",
       "    }\n",
       "</style>\n",
       "<table border=\"1\" class=\"dataframe\">\n",
       "  <thead>\n",
       "    <tr style=\"text-align: right;\">\n",
       "      <th></th>\n",
       "    </tr>\n",
       "    <tr>\n",
       "      <th>COMPLETE SHEET ACHIEVEMENT</th>\n",
       "    </tr>\n",
       "  </thead>\n",
       "  <tbody>\n",
       "    <tr>\n",
       "      <th>MetalHead</th>\n",
       "    </tr>\n",
       "    <tr>\n",
       "      <th>MyOhMyPancakes</th>\n",
       "    </tr>\n",
       "    <tr>\n",
       "      <th>Shibbypod</th>\n",
       "    </tr>\n",
       "    <tr>\n",
       "      <th>andypanther</th>\n",
       "    </tr>\n",
       "    <tr>\n",
       "      <th>doctorfeesh</th>\n",
       "    </tr>\n",
       "  </tbody>\n",
       "</table>\n",
       "</div>"
      ],
      "text/plain": [
       "Empty DataFrame\n",
       "Columns: []\n",
       "Index: [MetalHead, MyOhMyPancakes, Shibbypod, andypanther, doctorfeesh]"
      ]
     },
     "execution_count": 15,
     "metadata": {},
     "output_type": "execute_result"
    }
   ],
   "source": [
    "ACHIEVEMENTS['Complete Sheet']"
   ]
  },
  {
   "cell_type": "code",
   "execution_count": 16,
   "metadata": {
    "tags": [
     "hide-inputs"
    ]
   },
   "outputs": [
    {
     "data": {
      "text/html": [
       "<div>\n",
       "<style scoped>\n",
       "    .dataframe tbody tr th:only-of-type {\n",
       "        vertical-align: middle;\n",
       "    }\n",
       "\n",
       "    .dataframe tbody tr th {\n",
       "        vertical-align: top;\n",
       "    }\n",
       "\n",
       "    .dataframe thead th {\n",
       "        text-align: right;\n",
       "    }\n",
       "</style>\n",
       "<table border=\"1\" class=\"dataframe\">\n",
       "  <thead>\n",
       "    <tr style=\"text-align: right;\">\n",
       "      <th></th>\n",
       "    </tr>\n",
       "    <tr>\n",
       "      <th>ALL STANDARDS ACHIEVEMENT</th>\n",
       "    </tr>\n",
       "  </thead>\n",
       "  <tbody>\n",
       "    <tr>\n",
       "      <th>Game</th>\n",
       "    </tr>\n",
       "    <tr>\n",
       "      <th>Shibbypod</th>\n",
       "    </tr>\n",
       "    <tr>\n",
       "      <th>doctorfeesh</th>\n",
       "    </tr>\n",
       "  </tbody>\n",
       "</table>\n",
       "</div>"
      ],
      "text/plain": [
       "Empty DataFrame\n",
       "Columns: []\n",
       "Index: [Game, Shibbypod, doctorfeesh]"
      ]
     },
     "execution_count": 16,
     "metadata": {},
     "output_type": "execute_result"
    }
   ],
   "source": [
    "ACHIEVEMENTS['All Standards']"
   ]
  },
  {
   "cell_type": "code",
   "execution_count": 17,
   "metadata": {
    "tags": [
     "hide-inputs"
    ]
   },
   "outputs": [
    {
     "data": {
      "text/html": [
       "<div>\n",
       "<style scoped>\n",
       "    .dataframe tbody tr th:only-of-type {\n",
       "        vertical-align: middle;\n",
       "    }\n",
       "\n",
       "    .dataframe tbody tr th {\n",
       "        vertical-align: top;\n",
       "    }\n",
       "\n",
       "    .dataframe thead th {\n",
       "        text-align: right;\n",
       "    }\n",
       "</style>\n",
       "<table border=\"1\" class=\"dataframe\">\n",
       "  <thead>\n",
       "    <tr style=\"text-align: right;\">\n",
       "      <th></th>\n",
       "    </tr>\n",
       "    <tr>\n",
       "      <th>ALL BENCHMARKS ACHIEVEMENT</th>\n",
       "    </tr>\n",
       "  </thead>\n",
       "  <tbody>\n",
       "    <tr>\n",
       "      <th>Shibbypod</th>\n",
       "    </tr>\n",
       "    <tr>\n",
       "      <th>doctorfeesh</th>\n",
       "    </tr>\n",
       "  </tbody>\n",
       "</table>\n",
       "</div>"
      ],
      "text/plain": [
       "Empty DataFrame\n",
       "Columns: []\n",
       "Index: [Shibbypod, doctorfeesh]"
      ]
     },
     "execution_count": 17,
     "metadata": {},
     "output_type": "execute_result"
    }
   ],
   "source": [
    "ACHIEVEMENTS['All Benchmarks']"
   ]
  },
  {
   "cell_type": "code",
   "execution_count": 18,
   "metadata": {
    "tags": [
     "hide-inputs"
    ]
   },
   "outputs": [
    {
     "data": {
      "text/html": [
       "<div>\n",
       "<style scoped>\n",
       "    .dataframe tbody tr th:only-of-type {\n",
       "        vertical-align: middle;\n",
       "    }\n",
       "\n",
       "    .dataframe tbody tr th {\n",
       "        vertical-align: top;\n",
       "    }\n",
       "\n",
       "    .dataframe thead th {\n",
       "        text-align: right;\n",
       "    }\n",
       "</style>\n",
       "<table border=\"1\" class=\"dataframe\">\n",
       "  <thead>\n",
       "    <tr style=\"text-align: right;\">\n",
       "      <th></th>\n",
       "    </tr>\n",
       "    <tr>\n",
       "      <th>ALL MEDALS ACHIEVEMENT</th>\n",
       "    </tr>\n",
       "  </thead>\n",
       "  <tbody>\n",
       "    <tr>\n",
       "      <th>Shibbypod</th>\n",
       "    </tr>\n",
       "  </tbody>\n",
       "</table>\n",
       "</div>"
      ],
      "text/plain": [
       "Empty DataFrame\n",
       "Columns: []\n",
       "Index: [Shibbypod]"
      ]
     },
     "execution_count": 18,
     "metadata": {},
     "output_type": "execute_result"
    }
   ],
   "source": [
    "ACHIEVEMENTS['All Medals']"
   ]
  },
  {
   "cell_type": "markdown",
   "metadata": {},
   "source": [
    "# Showcase\n",
    "\n",
    "Finally, we could even build an algorithm to showcase the best runs of the quarter.  Here's a quick test where the highest placing runs submitted in Q4 were selected for each category. Ties were decided by some janky comparison between the median time and the world record time.  Now I know why MDK1 got the Most Improved award! Another idea could be to find the player with the greatest improvement for each course over the quarter.  This has the opportunity to recognize the work of newer players, like someone who went from a 1'09\"xxx on Sunny Beach [3 Lap] in Q3 to 1'05\"xxx in Q4. It's also fun because you can link the videos for those who missed seeing the run come through in the first place."
   ]
  },
  {
   "cell_type": "code",
   "execution_count": 19,
   "metadata": {},
   "outputs": [
    {
     "data": {
      "text/html": [
       "<div>\n",
       "<style scoped>\n",
       "    .dataframe tbody tr th:only-of-type {\n",
       "        vertical-align: middle;\n",
       "    }\n",
       "\n",
       "    .dataframe tbody tr th {\n",
       "        vertical-align: top;\n",
       "    }\n",
       "\n",
       "    .dataframe thead th {\n",
       "        text-align: right;\n",
       "    }\n",
       "</style>\n",
       "<table border=\"1\" class=\"dataframe\">\n",
       "  <thead>\n",
       "    <tr style=\"text-align: right;\">\n",
       "      <th></th>\n",
       "      <th>PLAYER</th>\n",
       "      <th>LEVEL</th>\n",
       "      <th>PLACE</th>\n",
       "      <th>TIME</th>\n",
       "      <th>VIDEO</th>\n",
       "    </tr>\n",
       "    <tr>\n",
       "      <th>BEST RUNS</th>\n",
       "      <th></th>\n",
       "      <th></th>\n",
       "      <th></th>\n",
       "      <th></th>\n",
       "      <th></th>\n",
       "    </tr>\n",
       "  </thead>\n",
       "  <tbody>\n",
       "    <tr>\n",
       "      <th>3 Lap</th>\n",
       "      <td>MDK1</td>\n",
       "      <td>Sunny Beach</td>\n",
       "      <td>2</td>\n",
       "      <td>1'03\"273</td>\n",
       "      <td>https://youtu.be/r54GyglE5nc</td>\n",
       "    </tr>\n",
       "    <tr>\n",
       "      <th>1 Lap</th>\n",
       "      <td>MDK1</td>\n",
       "      <td>Sunny Beach</td>\n",
       "      <td>3</td>\n",
       "      <td>0'20\"182</td>\n",
       "      <td>https://youtu.be/7IXcMzO3sWY</td>\n",
       "    </tr>\n",
       "    <tr>\n",
       "      <th>Reverse</th>\n",
       "      <td>MDK1</td>\n",
       "      <td>Sunset Bay</td>\n",
       "      <td>1</td>\n",
       "      <td>1'07\"976</td>\n",
       "      <td>https://youtu.be/FpOKDjDX_-8</td>\n",
       "    </tr>\n",
       "    <tr>\n",
       "      <th>RTA</th>\n",
       "      <td>MDK1</td>\n",
       "      <td>Championship Normal</td>\n",
       "      <td>3</td>\n",
       "      <td>9'24\"000</td>\n",
       "      <td>https://youtu.be/7u37I2mJWGw</td>\n",
       "    </tr>\n",
       "  </tbody>\n",
       "</table>\n",
       "</div>"
      ],
      "text/plain": [
       "          PLAYER                LEVEL  PLACE      TIME  \\\n",
       "BEST RUNS                                                \n",
       "3 Lap       MDK1          Sunny Beach      2  1'03\"273   \n",
       "1 Lap       MDK1          Sunny Beach      3  0'20\"182   \n",
       "Reverse     MDK1           Sunset Bay      1  1'07\"976   \n",
       "RTA         MDK1  Championship Normal      3  9'24\"000   \n",
       "\n",
       "                                  VIDEO  \n",
       "BEST RUNS                                \n",
       "3 Lap      https://youtu.be/r54GyglE5nc  \n",
       "1 Lap      https://youtu.be/7IXcMzO3sWY  \n",
       "Reverse    https://youtu.be/FpOKDjDX_-8  \n",
       "RTA        https://youtu.be/7u37I2mJWGw  "
      ]
     },
     "execution_count": 19,
     "metadata": {},
     "output_type": "execute_result"
    }
   ],
   "source": [
    "BESTRUNS = awards.best_runs(\n",
    "    DATE = '2021-12-31',\n",
    "    REGION = 'NTSC'\n",
    ")\n",
    "BESTRUNS"
   ]
  }
 ],
 "metadata": {
  "authors": [
   {
    "name": "telfus"
   }
  ],
  "interpreter": {
   "hash": "d73ee933995912446ee20db23959a649cf7238bcdff663ac18e205e03afcc9d2"
  },
  "kernelspec": {
   "display_name": "Python 3 (ipykernel)",
   "language": "python",
   "name": "python3"
  },
  "language_info": {
   "codemirror_mode": {
    "name": "ipython",
    "version": 3
   },
   "file_extension": ".py",
   "mimetype": "text/x-python",
   "name": "python",
   "nbconvert_exporter": "python",
   "pygments_lexer": "ipython3",
   "version": "3.9.7"
  },
  "title": "WR64 Scoring System and Rankings"
 },
 "nbformat": 4,
 "nbformat_minor": 4
}
